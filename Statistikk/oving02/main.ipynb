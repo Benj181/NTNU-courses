import numpy as np

l = [0, 1, 2]
arr = np.array(l)
print(arr*2)
