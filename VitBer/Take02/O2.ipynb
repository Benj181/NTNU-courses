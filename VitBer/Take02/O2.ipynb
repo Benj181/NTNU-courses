{
 "cells": [
  {
   "cell_type": "markdown",
   "id": "ed12d283",
   "metadata": {},
   "source": [
    "# Exercise set 2 \n"
   ]
  },
  {
   "cell_type": "code",
   "execution_count": 27,
   "id": "9ef3980c",
   "metadata": {},
   "outputs": [],
   "source": [
    "import numpy as np\n",
    "import matplotlib.pyplot as plt"
   ]
  },
  {
   "cell_type": "markdown",
   "id": "8f68873f",
   "metadata": {},
   "source": [
    "## Exercise 1: Newton Coates\n"
   ]
  },
  {
   "cell_type": "markdown",
   "id": "0c65d99a",
   "metadata": {},
   "source": [
    "The main task of this problem set is the following: for a given interval $(a,b)$ and $n+1$ equally distributed nodes $x_i = a + i \\tfrac{(b-a)}{n}$\n",
    "for $i=0,\\ldots n$, tabulate the weights for the Newton-Cotes formula up to $n=14$.\n",
    "The problem boils down to 2 task, namely \n",
    "\n",
    "1. Defining the Lagrange polynomials $L_{in}$ for $i=0, \\ldots, n$\n",
    "2. Computing the weights $ w_i = \\int_a^b L_{in}(x) \\,\\mathrm{d}x $\n",
    "\n",
    "__Before you start:__ For the implementation of the task, we recommend to use the [sympy](https://docs.sympy.org/latest/index.html#) python module  for symbolic mathematics to perform tasks such as (symbolic) integration.\n",
    "Spend some time to browse  through the  [sympy tutorial](https://docs.sympy.org/latest/tutorial/index.html) and the [help on symbolic integration](https://docs.sympy.org/latest/modules/integrals/integrals.html). Using ```sympy```__Before you start:__ For the implementation of the task, we recommend to use the [sympy](https://docs.sympy.org/latest/index.html#) python module  for symbolic mathematics to perform tasks such as (symbolic) integration.\n",
    "Spend some time to browse  through the  [sympy tutorial](https://docs.sympy.org/latest/tutorial/index.html) and the [help on symbolic integration](https://docs.sympy.org/latest/modules/integrals/integrals.html). Using ```sympy``` you can for instance do something like this for $n=2$:\n"
   ]
  },
  {
   "cell_type": "code",
   "execution_count": 28,
   "id": "ce2672b6",
   "metadata": {},
   "outputs": [
    {
     "name": "stdout",
     "output_type": "stream",
     "text": [
      "w0 = 0.166666666666667\n"
     ]
    }
   ],
   "source": [
    "# import symbol x from sympy so that you can define symbolic functions of x\n",
    "from sympy.abc import x\n",
    "# import symbolic integration\n",
    "from sympy import integrate \n",
    "from functools import reduce\n",
    "\n",
    "# Define\n",
    "a, b = 0, 1 \n",
    "xqs = np.linspace(a,b,3)\n",
    "# Define L_02 (not normalized)\n",
    "L_02 = (x-xqs[1])*(x-xqs[2])\n",
    "# Normalize it to satisfy l_02(x_0) = 1\n",
    "L_02 = L_02/L_02.subs(x,xqs[0])\n",
    "\n",
    "# Now integrate L_02 to compute the first weight\n",
    "w_0 = integrate(L_02, (x, a, b))\n",
    "print(\"w0 = {}\".format(w_0))"
   ]
  },
  {
   "cell_type": "markdown",
   "id": "c6deca26",
   "metadata": {},
   "source": [
    "Of course, \n",
    "since you are asked to do comupute all $n+1$ weights  $n=1,\\ldots,14$,\n",
    "you need to automatize the construction of the corresponding Lagrange polynoms.\n",
    "So proceed as follows:"
   ]
  },
  {
   "cell_type": "markdown",
   "id": "aac79950",
   "metadata": {},
   "source": [
    "__a__) Write  a python function ```lagrange_polys``` which takes a list of $n+1$ quadrature points\n",
    "and returns a list of the corresponding $n+1$ Lagrange polynoms $\\{L_{in}\\}_{i=0}^n$\n",
    "defined a symbolic function using ```sympy```:"
   ]
  },
  {
   "cell_type": "code",
   "execution_count": 29,
   "id": "b2cdf7c6",
   "metadata": {},
   "outputs": [],
   "source": [
    "import sympy\n",
    "from functools import reduce\n",
    "import numpy as np\n",
    "\n",
    "x = sympy.symbols('x')\n",
    "\n",
    "def lagrange_polys(xqs):\n",
    "    return [reduce(lambda x,y:x*y, [(x-xqs[j])/(xqs[i]-xqs[j]) for j in range(len(xqs)) if j != i]) for i in range(len(xqs))]"
   ]
  },
  {
   "cell_type": "markdown",
   "id": "4340a680",
   "metadata": {},
   "source": [
    "__b__) Now the easy part! Employ your brand new ```def lagrange_polys``` function and implement a python function which takes as argument the desired degree of exactness $n$ and the interval end points\n",
    "$a,b$ and returns a list of quadrature points $\\{x_i\\}_{i=0}^n$ and quadrature weights $\\{w_i\\}_{i=0}^n$:"
   ]
  },
  {
   "cell_type": "code",
   "execution_count": 30,
   "id": "dcaae6f5",
   "metadata": {},
   "outputs": [],
   "source": [
    "def newton_cotes(n, a, b):\n",
    "    xqs = np.linspace(a, b, n)\n",
    "    ls = lagrange_polys(xqs)\n",
    "    ws = [sympy.integrate(l, (x, a, b)) for l in ls]\n",
    "    return np.array(xqs), np.array(ws)\n"
   ]
  },
  {
   "cell_type": "markdown",
   "id": "f7f4638b",
   "metadata": {},
   "source": [
    "__c__) Before you tabulate the quadrature weights with you newly implemented function, make sure that you implement them correctly. More, specifically, check for $n=1,\\ldots 14$\n",
    "that the computed Newton-Cotes formula has the expected degree of exactness, meaning that it integrates polynomials up to order $n$ __exactly__.\n",
    "\n",
    "For $n$ is even, check that the corresponding Newton-Cotes rules even integrate polynomials up to order $n+1$  exactly (and not only up to $n$).\n",
    "\n",
    "Note:  Due to floating point related errors and some numerical instabilities when computing\n",
    "higher order Lagrange polynomials and integrals, the difference between the exact integral \n",
    "and the numerically error won't be 0, but around the machine precision for $n=1,2$ and then\n",
    "for each increase of the order $n$ you will roughly loose of significant digit in\n",
    "the difference between the two.\n",
    "\n"
   ]
  },
  {
   "cell_type": "code",
   "execution_count": 31,
   "id": "88991550",
   "metadata": {},
   "outputs": [
    {
     "name": "stdout",
     "output_type": "stream",
     "text": [
      "n: 1 6.42920050530904e-9\n",
      "n: 2 5.14046100130727e-9\n",
      "n: 3 3.95593885427203e-9\n",
      "n: 4 2.77866807341098e-9\n",
      "n: 5 1.77837433668060e-9\n",
      "n: 6 1.02457375916742e-9\n",
      "n: 7 5.03083630309931e-10\n",
      "n: 8 1.66615471419718e-10\n",
      "n: 9 3.57307239351456e-11\n",
      "n: 10 1.46744311146918e-10\n",
      "n: 11 1.98536978524011e-10\n",
      "n: 12 2.13662892933897e-10\n",
      "n: 13 2.07264538865104e-10\n",
      "n: 14 1.28465678095324e-8\n",
      "n: 15 9.76024299575995e-8\n",
      "n: 16 4.02676261897217e-7\n"
     ]
    }
   ],
   "source": [
    "def QR(f, xq, wq):\n",
    "    return wq@f(xq)\n",
    "\n",
    "m = 14\n",
    "xq, wq = newton_cotes(m, 0, 1)\n",
    "for n in range(1, m+3):\n",
    "    f = lambda x_: x_**n\n",
    "    print(f\"n: {n}\", abs(1/(n+1) - QR(f, xq, wq)))\n",
    "\n",
    "\n"
   ]
  },
  {
   "cell_type": "markdown",
   "id": "c3163e68",
   "metadata": {},
   "source": [
    "__d__) Tabulate the quadrature weights for the Newton-Cotes rule for $n=1,\\ldots 14$. For which $n$  should you\n",
    "refrain from using the resulting quadrature rule (and why?)"
   ]
  },
  {
   "cell_type": "code",
   "execution_count": 36,
   "id": "84d7e6bb",
   "metadata": {},
   "outputs": [
    {
     "name": "stdout",
     "output_type": "stream",
     "text": [
      "neg weigths, n=9\n",
      "neg weigths, n=11\n",
      "neg weigths, n=12\n",
      "neg weigths, n=13\n",
      "neg weigths, n=14\n"
     ]
    }
   ],
   "source": [
    "for n in range(2, 15):\n",
    "    xq, wq = newton_cotes(n, 0, 1)\n",
    "    if [i for i in wq if i < 0]:\n",
    "        print(f\"neg weigths, n={n}\")"
   ]
  },
  {
   "cell_type": "markdown",
   "id": "5ff7de3d",
   "metadata": {},
   "source": [
    "## Exercise 2: composite Simpson's rule\n",
    "Simpson's rule is defined as\n",
    "$$\n",
    "S[f](x_{i-1}, x_i) = \\frac{h}{6}(f(x_{i-1} + 4f(x_{i-1/2}) + f(x_i))\n",
    "$$\n",
    "where $h = x_i - x_{i-1}$ and $x_{i-1/2} = \\frac{x_{i-1}+x_i}{2}.$\n"
   ]
  },
  {
   "cell_type": "markdown",
   "id": "e54ac093",
   "metadata": {},
   "source": [
    "**a)**\n",
    "\n",
    "Show that the resulting composite Simpson's rule is given by\n",
    "\n",
    "\\begin{align*}\n",
    "\\int_a^b f {\\,\\mathrm{d}x} \\approx \\mathrm{CSR}[f]({[x_{i-1}, x_i]}_{i=1}^{m})\n",
    "&= \n",
    "\\tfrac{h}{6}\n",
    "[\n",
    "f(x_0)\n",
    "+ 4f(x_{x_{1/2}}) + 2f(x_1) \n",
    "+ 4f(x_{3/2}) +     2f(x_2)\n",
    "+ \\ldots\n",
    "\\\\ \n",
    "&\\qquad+2 f(x_{m-1})\n",
    "+\n",
    "4f(x_{x_{m-1/2}}) \n",
    "+f(x_m)\n",
    "].\n",
    "\\end{align*}"
   ]
  },
  {
   "cell_type": "markdown",
   "id": "27471b75",
   "metadata": {},
   "source": []
  },
  {
   "cell_type": "markdown",
   "id": "679ebe48",
   "metadata": {},
   "source": [
    "**b)**\n",
    "Implement the composite Simpson's rule.\n",
    "Use this function to compute an approximated value of the integral\n",
    "\n",
    "$$\n",
    "I(0,1) = \\int_0^1 \\tan\\left(\\frac{\\pi}{4}x\\right) = 2\\frac{\\log(2)}{\\pi} = 0.4412712\\dotsc.\n",
    "$$\n",
    "\n",
    "for $m = 4, 8, 16, 32, 64$ corresponding to\n",
    "$ h = 2^{-2}, 2^{-3}, 2^{-4}, 2^{-5}, 2^{-6}$.\n",
    "Tabulate the corresponding quadrature errors $|I(0,1) - \\mathrm{CSR}[f]({[x_{i-1}, x_i]}_{i=1}^{m})|$. Plot the errors against $h$ in a $\\log-\\log$\n",
    "plot and determine the EOC (\"Experimental Order of Convergence\")\n",
    "How does it compare to the composite trapezoidal rule?"
   ]
  },
  {
   "cell_type": "code",
   "execution_count": null,
   "id": "17ca37bf",
   "metadata": {},
   "outputs": [],
   "source": []
  },
  {
   "cell_type": "markdown",
   "id": "97a56718",
   "metadata": {},
   "source": [
    "**c)**\n",
    "Recall that the error of Simpson's rule on a single interval is given by\n",
    "\n",
    "$$\n",
    "|I[f](a,b) - S[f](a,b)| = - \\frac{(b-a)^5}{2880}  f^{(4)}(\\xi)\n",
    "$$\n",
    "for some $\\xi \\in [a,b]$.\n",
    "\n",
    "Use this to show that the error of the composite Simpson rule can be bounded by\n",
    "\n",
    "\\begin{equation}\n",
    "|I[f]-\\mathrm{CSR}[f]|\n",
    "\\leqslant\n",
    "\\dfrac{M_4}{2880} \\dfrac{(b-a)^5}{m^4}\n",
    "=\n",
    "\\dfrac{M_4}{2880}\n",
    "h^4(b-a)\n",
    "\\end{equation}\n",
    "\n",
    "where  $M_4 = \\max_{\\xi\\in[a,b]} |f^{(4)}(\\xi)|$. Does your numerical experiments from b) support the theoretically derived convergence order?"
   ]
  },
  {
   "cell_type": "markdown",
   "id": "713b23ce",
   "metadata": {},
   "source": []
  },
  {
   "cell_type": "markdown",
   "id": "cb267344",
   "metadata": {},
   "source": [
    "**d)** Redo the numerical experiment from b), but this time, use the composite Simpson rule to \n",
    "compute approximated values of the integral\n",
    "\n",
    "$$\n",
    "\\int_0^1 \\sqrt{1-x^2} dx = \\dfrac{\\pi}{4}.\n",
    "$$\n",
    "What EOC do you obtain? Do you have an explanation for reduced convergence order?\n",
    "\n",
    "**Hint.** Have a look a $f'$, e.g. by plotting $f'$ over intervals $[0,b]$ with $0 < b < 1$ but $b$ very close to $1$, e.g. $b=0.9999$  "
   ]
  },
  {
   "cell_type": "code",
   "execution_count": null,
   "id": "2c1d6c65",
   "metadata": {},
   "outputs": [],
   "source": []
  },
  {
   "cell_type": "markdown",
   "id": "9b999d07",
   "metadata": {},
   "source": []
  },
  {
   "cell_type": "markdown",
   "id": "977f9389",
   "metadata": {},
   "source": [
    "## Exercise 3: composite Gauss-Legandre\n",
    "\n",
    "Gauss-Legandre on the interval $[-1,1]$ is defined as \n",
    "$$\n",
    "GL[f](-1, 1) =f(1/\\sqrt{3}) + f(-1/\\sqrt{3})\n",
    "$$\n"
   ]
  },
  {
   "cell_type": "markdown",
   "id": "9f396e99",
   "metadata": {},
   "source": []
  },
  {
   "cell_type": "markdown",
   "id": "5aac89f1",
   "metadata": {},
   "source": [
    "__a__) Transfer the quadrature points and weights to an arbitrary interval $[x_{i-1},x_{i}]$, and show that the composite Gauss-Legandre rule is given by: \n",
    "\n",
    "\n",
    "\\begin{align*}\n",
    "\\int_a^b f {\\,\\mathrm{d}x} \\approx \\mathrm{CGL}[f]({[x_{i-1}, x_i]}_{i=1}^{m})\n",
    "&= \n",
    "\\frac{h}{2}\\sum_{i=1}^m \\left( f\\left(\\frac{x_i + x_{i-1}}{2} + \\frac{x_i - x_{i-1}}{2\\sqrt{3}}\\right) +  f\\left(\\frac{x_i + x_{i-1}}{2} - \\frac{x_i - x_{i-1}}{2\\sqrt{3}} \\right) \\right) .\n",
    "\\end{align*}\n",
    "\n",
    "where $h = x_i - x_{i-1}$"
   ]
  },
  {
   "cell_type": "markdown",
   "id": "8c30cffd",
   "metadata": {},
   "source": []
  },
  {
   "cell_type": "markdown",
   "id": "facd4940",
   "metadata": {},
   "source": [
    "__b__) Implement the composite Gauss-Legandre and determine the EOC as you did in exercise 2b)"
   ]
  },
  {
   "cell_type": "markdown",
   "id": "3df14f14",
   "metadata": {},
   "source": []
  }
 ],
 "metadata": {
  "kernelspec": {
   "display_name": "Python 3",
   "language": "python",
   "name": "python3"
  },
  "language_info": {
   "codemirror_mode": {
    "name": "ipython",
    "version": 3
   },
   "file_extension": ".py",
   "mimetype": "text/x-python",
   "name": "python",
   "nbconvert_exporter": "python",
   "pygments_lexer": "ipython3",
   "version": "3.12.9"
  }
 },
 "nbformat": 4,
 "nbformat_minor": 5
}
