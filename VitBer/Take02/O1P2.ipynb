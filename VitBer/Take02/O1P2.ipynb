{
 "cells": [
  {
   "cell_type": "code",
   "execution_count": 11,
   "id": "508e6adf",
   "metadata": {},
   "outputs": [],
   "source": [
    "import numpy as np\n",
    "import matplotlib.pyplot as plt\n",
    "from functools import reduce\n",
    "import sympy "
   ]
  },
  {
   "cell_type": "code",
   "execution_count": 42,
   "id": "14ac652d",
   "metadata": {},
   "outputs": [],
   "source": [
    "def lagrange_polys(x, xs):\n",
    "    n = len(xs)\n",
    "    return [[reduce(lambda x,y:x*y, [(x - xs[j])/(xs[i] - xs[j]) for j in range(n) if j != i])] for i in range(n)]\n",
    "\n",
    "def polys(ls, ys):\n",
    "    return reduce(lambda x,y:x+y, np.array(ys)@np.array(ls))\n"
   ]
  },
  {
   "cell_type": "code",
   "execution_count": 43,
   "id": "ec912aaf",
   "metadata": {},
   "outputs": [],
   "source": [
    "xs = [1960, 1970, 1990, 2000]\n",
    "ys = [3039585530, 3707475887, 5281653820, 6079603571]"
   ]
  },
  {
   "cell_type": "code",
   "execution_count": 48,
   "id": "9ad3418f",
   "metadata": {},
   "outputs": [
    {
     "name": "stdout",
     "output_type": "stream",
     "text": [
      "[1970, 1990]\n",
      "4494564853.5\n"
     ]
    }
   ],
   "source": [
    "x = sympy.symbols('x')\n",
    "print(xs[1:3])\n",
    "ls = lagrange_polys(x, xs[1:3])\n",
    "ps = polys(ls, ys[1:3])\n",
    "ps_func = sympy.lambdify(x, ps)\n",
    "print(ps_func(1980))"
   ]
  },
  {
   "cell_type": "code",
   "execution_count": 50,
   "id": "4eb3c4e9",
   "metadata": {},
   "outputs": [
    {
     "name": "stdout",
     "output_type": "stream",
     "text": [
      "[1960, 1970, 1990]\n",
      "4454831983.666694\n"
     ]
    }
   ],
   "source": [
    "x = sympy.symbols('x')\n",
    "print(xs[0:3])\n",
    "ls = lagrange_polys(x, xs[0:3])\n",
    "ps = polys(ls, ys[0:3])\n",
    "ps_func = sympy.lambdify(x, ps)\n",
    "print(ps_func(1980))"
   ]
  },
  {
   "cell_type": "code",
   "execution_count": 51,
   "id": "eb237542",
   "metadata": {},
   "outputs": [
    {
     "name": "stdout",
     "output_type": "stream",
     "text": [
      "4472888287.833398\n"
     ]
    }
   ],
   "source": [
    "x = sympy.symbols('x')\n",
    "ls = lagrange_polys(x, xs)\n",
    "ps = polys(ls, ys)\n",
    "ps_func = sympy.lambdify(x, ps)\n",
    "print(ps_func(1980))"
   ]
  }
 ],
 "metadata": {
  "kernelspec": {
   "display_name": "Python 3",
   "language": "python",
   "name": "python3"
  },
  "language_info": {
   "codemirror_mode": {
    "name": "ipython",
    "version": 3
   },
   "file_extension": ".py",
   "mimetype": "text/x-python",
   "name": "python",
   "nbconvert_exporter": "python",
   "pygments_lexer": "ipython3",
   "version": "3.12.9"
  }
 },
 "nbformat": 4,
 "nbformat_minor": 5
}
