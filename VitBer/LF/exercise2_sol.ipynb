{
 "cells": [
  {
   "cell_type": "markdown",
   "id": "ed12d283",
   "metadata": {},
   "source": [
    "# Exercise set 2 \n"
   ]
  },
  {
   "cell_type": "code",
   "execution_count": 1,
   "id": "9ef3980c",
   "metadata": {},
   "outputs": [],
   "source": [
    "import numpy as np\n",
    "import matplotlib.pyplot as plt"
   ]
  },
  {
   "cell_type": "markdown",
   "id": "8f68873f",
   "metadata": {},
   "source": [
    "## Exercise 1: Newton Cotes\n"
   ]
  },
  {
   "cell_type": "markdown",
   "id": "0c65d99a",
   "metadata": {},
   "source": [
    "The main task of this problem set is the following: for a given interval $(a,b)$ and $n+1$ equally distributed nodes $x_i = a + i \\tfrac{(b-a)}{n}$\n",
    "for $i=0,\\ldots n$, tabulate the weights for the Newton-Cotes formula up to $n=14$.\n",
    "The problem boils down to 2 task, namely \n",
    "\n",
    "1. Defining the Lagrange polynomials $L_{in}$ for $i=0, \\ldots, n$\n",
    "2. Computing the weights $ w_i = \\int_a^b L_{in}(x) \\,\\mathrm{d}x $\n",
    "\n",
    "__Before you start:__ For the implementation of the task, we recommend to use the [sympy](https://docs.sympy.org/latest/index.html#) python module  for symbolic mathematics to perform tasks such as (symbolic) integration.\n",
    "Spend some time to browse  through the  [sympy tutorial](https://docs.sympy.org/latest/tutorial/index.html) and the [help on symbolic integration](https://docs.sympy.org/latest/modules/integrals/integrals.html). Using ```sympy```__Before you start:__ For the implementation of the task, we recommend to use the [sympy](https://docs.sympy.org/latest/index.html#) python module  for symbolic mathematics to perform tasks such as (symbolic) integration.\n",
    "Spend some time to browse  through the  [sympy tutorial](https://docs.sympy.org/latest/tutorial/index.html) and the [help on symbolic integration](https://docs.sympy.org/latest/modules/integrals/integrals.html). Using ```sympy``` you can for instance do something like this for $n=2$:\n"
   ]
  },
  {
   "cell_type": "code",
   "execution_count": 2,
   "id": "ce2672b6",
   "metadata": {},
   "outputs": [
    {
     "name": "stdout",
     "output_type": "stream",
     "text": [
      "w0 = 0.166666666666667\n"
     ]
    }
   ],
   "source": [
    "# import symbol x from sympy so that you can define symbolic functions of x\n",
    "from sympy.abc import x\n",
    "# import symbolic integration\n",
    "from sympy import integrate \n",
    "from functools import reduce\n",
    "\n",
    "# Define\n",
    "a, b = 0, 1 \n",
    "xqs = np.linspace(a,b,3)\n",
    "# Define L_02 (not normalized)\n",
    "L_02 = (x-xqs[1])*(x-xqs[2])\n",
    "# Normalize it to satisfy l_02(x_0) = 1\n",
    "L_02 = L_02/L_02.subs(x,xqs[0])\n",
    "\n",
    "# Now integrate L_02 to compute the first weight\n",
    "w_0 = integrate(L_02, (x, a, b))\n",
    "print(\"w0 = {}\".format(w_0))"
   ]
  },
  {
   "cell_type": "markdown",
   "id": "c6deca26",
   "metadata": {},
   "source": [
    "Of course, \n",
    "since you are asked to do comupute all $n+1$ weights  $n=1,\\ldots,14$,\n",
    "you need to automatize the construction of the corresponding Lagrange polynoms.\n",
    "So proceed as follows:"
   ]
  },
  {
   "cell_type": "markdown",
   "id": "aac79950",
   "metadata": {},
   "source": [
    "__a__) Write  a python function ```lagrange_polys``` which takes a list of $n+1$ quadrature points\n",
    "and returns a list of the corresponding $n+1$ Lagrange polynoms $\\{L_{in}\\}_{i=0}^n$\n",
    "defined a symbolic function using ```sympy```:"
   ]
  },
  {
   "cell_type": "code",
   "execution_count": 3,
   "id": "b2cdf7c6",
   "metadata": {},
   "outputs": [],
   "source": [
    "def lagrange_polys(xqs):\n",
    "    n = len(xqs)\n",
    "    # Define non-normalized Lagrange basis functions\n",
    "    Ls = [reduce(lambda x,y : x*y,[x - xqs[j] for j in range(n) if j is not i]) for i in range(n)]\n",
    "    # Normalize them\n",
    "    Ls = [Ls[i]/Ls[i].subs(x, xqs[i]) for i in range(n)]\n",
    "    return Ls"
   ]
  },
  {
   "cell_type": "markdown",
   "id": "4340a680",
   "metadata": {},
   "source": [
    "__b__) Now the easy part! Employ your brand new ```def lagrange_polys``` function and implement a python function which takes as argument the desired degree of exactness $n$ and the interval end points\n",
    "$a,b$ and returns a list of quadrature points $\\{x_i\\}_{i=0}^n$ and quadrature weights $\\{w_i\\}_{i=0}^n$:"
   ]
  },
  {
   "cell_type": "code",
   "execution_count": 4,
   "id": "dcaae6f5",
   "metadata": {},
   "outputs": [],
   "source": [
    "def newton_cotes_formula(n, a, b):\n",
    "    xqs = np.linspace(a,b,n+1)\n",
    "    Ls = lagrange_polys(xqs)\n",
    "    ws = np.array([integrate(L, (x, a, b)) for L in Ls])\n",
    "    return (xqs, ws)"
   ]
  },
  {
   "cell_type": "markdown",
   "id": "f7f4638b",
   "metadata": {},
   "source": [
    "__c__) Before you tabulate the quadrature weights with you newly implemented function, make sure that you implement them correctly. More, specifically, check for $n=1,\\ldots 14$\n",
    "that the computed Newton-Cotes formula has the expected degree of exactness, meaning that it integrates polynomials up to order $n$ __exactly__.\n",
    "\n",
    "For $n$ is even, check that the corresponding Newton-Cotes rules even integrate polynomials up to order $n+1$  exactly (and not only up to $n$).\n",
    "\n",
    "Note:  Due to floating point related errors and some numerical instabilities when computing\n",
    "higher order Lagrange polynomials and integrals, the difference between the exact integral \n",
    "and the numerically error won't be 0, but around the machine precision for $n=1,2$ and then\n",
    "for each increase of the order $n$ you will roughly loose of significant digit in\n",
    "the difference between the two.\n",
    "\n"
   ]
  },
  {
   "cell_type": "code",
   "execution_count": 5,
   "id": "88991550",
   "metadata": {},
   "outputs": [
    {
     "name": "stdout",
     "output_type": "stream",
     "text": [
      "===========================================\n",
      "Newton-Cotes rules for n = 1\n",
      "Testing degree of exactness for m = 0\n",
      "0\n",
      "Testing degree of exactness for m = 1\n",
      "0\n",
      "Testing degree of exactness for m = 2\n",
      "-0.166666666666667\n",
      "===========================================\n",
      "Newton-Cotes rules for n = 2\n",
      "Testing degree of exactness for m = 0\n",
      "1.11022302462516e-16\n",
      "Testing degree of exactness for m = 1\n",
      "0\n",
      "Testing degree of exactness for m = 2\n",
      "0\n",
      "Testing degree of exactness for m = 3\n",
      "2.77555756156289e-17\n",
      "===========================================\n",
      "Newton-Cotes rules for n = 3\n",
      "Testing degree of exactness for m = 0\n",
      "-6.66133814775094e-16\n",
      "Testing degree of exactness for m = 1\n",
      "0\n",
      "Testing degree of exactness for m = 2\n",
      "1.11022302462516e-16\n",
      "Testing degree of exactness for m = 3\n",
      "2.22044604925031e-16\n",
      "Testing degree of exactness for m = 4\n",
      "-0.00370370370370346\n",
      "===========================================\n",
      "Newton-Cotes rules for n = 4\n",
      "Testing degree of exactness for m = 0\n",
      "-3.55271367880050e-15\n",
      "Testing degree of exactness for m = 1\n",
      "-4.44089209850063e-16\n",
      "Testing degree of exactness for m = 2\n",
      "-5.55111512312578e-17\n",
      "Testing degree of exactness for m = 3\n",
      "8.32667268468867e-17\n",
      "Testing degree of exactness for m = 4\n",
      "1.66533453693773e-16\n",
      "Testing degree of exactness for m = 5\n",
      "1.66533453693773e-16\n",
      "===========================================\n",
      "Newton-Cotes rules for n = 5\n",
      "Testing degree of exactness for m = 0\n",
      "-8.43769498715119e-15\n",
      "Testing degree of exactness for m = 1\n",
      "5.55111512312578e-16\n",
      "Testing degree of exactness for m = 2\n",
      "1.27675647831893e-15\n",
      "Testing degree of exactness for m = 3\n",
      "6.66133814775094e-16\n",
      "Testing degree of exactness for m = 4\n",
      "1.11022302462516e-16\n",
      "Testing degree of exactness for m = 5\n",
      "-3.60822483003176e-16\n",
      "Testing degree of exactness for m = 6\n",
      "-0.000209523809524464\n",
      "===========================================\n",
      "Newton-Cotes rules for n = 6\n",
      "Testing degree of exactness for m = 0\n",
      "-4.97379915032070e-13\n",
      "Testing degree of exactness for m = 1\n",
      "-2.60458321577062e-13\n",
      "Testing degree of exactness for m = 2\n",
      "-1.46438416948058e-13\n",
      "Testing degree of exactness for m = 3\n",
      "-8.67084182232247e-14\n",
      "Testing degree of exactness for m = 4\n",
      "-5.34294830600857e-14\n",
      "Testing degree of exactness for m = 5\n",
      "-3.38895578266829e-14\n",
      "Testing degree of exactness for m = 6\n",
      "-2.18713935851156e-14\n",
      "Testing degree of exactness for m = 7\n",
      "-1.42108547152020e-14\n",
      "===========================================\n",
      "Newton-Cotes rules for n = 7\n",
      "Testing degree of exactness for m = 0\n",
      "-1.31894495325469e-12\n",
      "Testing degree of exactness for m = 1\n",
      "-7.02216063075412e-13\n",
      "Testing degree of exactness for m = 2\n",
      "-4.06397138164039e-13\n",
      "Testing degree of exactness for m = 3\n",
      "-2.53630449975617e-13\n",
      "Testing degree of exactness for m = 4\n",
      "-1.70169434099421e-13\n",
      "Testing degree of exactness for m = 5\n",
      "-1.21486154469608e-13\n",
      "Testing degree of exactness for m = 6\n",
      "-9.09550212924159e-14\n",
      "Testing degree of exactness for m = 7\n",
      "-7.03326286100037e-14\n",
      "Testing degree of exactness for m = 8\n",
      "-1.57719620403757e-5\n",
      "===========================================\n",
      "Newton-Cotes rules for n = 8\n",
      "Testing degree of exactness for m = 0\n",
      "8.67927951730962e-12\n",
      "Testing degree of exactness for m = 1\n",
      "4.87521134573399e-12\n",
      "Testing degree of exactness for m = 2\n",
      "2.57932564196039e-12\n",
      "Testing degree of exactness for m = 3\n",
      "1.34764421844125e-12\n",
      "Testing degree of exactness for m = 4\n",
      "7.05657754451749e-13\n",
      "Testing degree of exactness for m = 5\n",
      "3.72840647244743e-13\n",
      "Testing degree of exactness for m = 6\n",
      "2.00089944613069e-13\n",
      "Testing degree of exactness for m = 7\n",
      "1.10592091040473e-13\n",
      "Testing degree of exactness for m = 8\n",
      "6.47121245478388e-14\n",
      "Testing degree of exactness for m = 9\n",
      "4.19803081186387e-14\n",
      "===========================================\n",
      "Newton-Cotes rules for n = 9\n",
      "Testing degree of exactness for m = 0\n",
      "-2.44604336785414e-12\n",
      "Testing degree of exactness for m = 1\n",
      "-3.95317112378279e-12\n",
      "Testing degree of exactness for m = 2\n",
      "-8.20288281744297e-13\n",
      "Testing degree of exactness for m = 3\n",
      "1.06747943817709e-12\n",
      "Testing degree of exactness for m = 4\n",
      "1.80724879506045e-12\n",
      "Testing degree of exactness for m = 5\n",
      "1.95288230031565e-12\n",
      "Testing degree of exactness for m = 6\n",
      "1.84294246530214e-12\n",
      "Testing degree of exactness for m = 7\n",
      "1.64221414244992e-12\n",
      "Testing degree of exactness for m = 8\n",
      "1.42393041802080e-12\n",
      "Testing degree of exactness for m = 9\n",
      "1.21844201395049e-12\n",
      "Testing degree of exactness for m = 10\n",
      "-1.37007480999207e-6\n",
      "===========================================\n",
      "Newton-Cotes rules for n = 10\n",
      "Testing degree of exactness for m = 0\n",
      "3.92775589830308e-10\n",
      "Testing degree of exactness for m = 1\n",
      "1.68745406536885e-10\n",
      "Testing degree of exactness for m = 2\n",
      "7.34202143526375e-11\n",
      "Testing degree of exactness for m = 3\n",
      "3.19338444576545e-11\n",
      "Testing degree of exactness for m = 4\n",
      "1.35895183994705e-11\n",
      "Testing degree of exactness for m = 5\n",
      "5.38996625110144e-12\n",
      "Testing degree of exactness for m = 6\n",
      "1.70774505647842e-12\n",
      "Testing degree of exactness for m = 7\n",
      "6.40459907330637e-14\n",
      "Testing degree of exactness for m = 8\n",
      "-6.48647802137248e-13\n",
      "Testing degree of exactness for m = 9\n",
      "-9.31768551204470e-13\n",
      "Testing degree of exactness for m = 10\n",
      "-1.01554875620025e-12\n",
      "Testing degree of exactness for m = 11\n",
      "-1.00729147245460e-12\n",
      "===========================================\n",
      "Newton-Cotes rules for n = 11\n",
      "Testing degree of exactness for m = 0\n",
      "6.57825793837219e-10\n",
      "Testing degree of exactness for m = 1\n",
      "-2.83186030181071e-10\n",
      "Testing degree of exactness for m = 2\n",
      "-4.48984016632181e-10\n",
      "Testing degree of exactness for m = 3\n",
      "-4.10021461227927e-10\n",
      "Testing degree of exactness for m = 4\n",
      "-3.27423144153016e-10\n",
      "Testing degree of exactness for m = 5\n",
      "-2.48870146712932e-10\n",
      "Testing degree of exactness for m = 6\n",
      "-1.85875786984369e-10\n",
      "Testing degree of exactness for m = 7\n",
      "-1.38501654589618e-10\n",
      "Testing degree of exactness for m = 8\n",
      "-1.03788977412478e-10\n",
      "Testing degree of exactness for m = 9\n",
      "-7.85534970404456e-11\n",
      "Testing degree of exactness for m = 10\n",
      "-6.01727556670539e-11\n",
      "Testing degree of exactness for m = 11\n",
      "-4.66848920632756e-11\n",
      "Testing degree of exactness for m = 12\n",
      "-1.29836984996690e-7\n",
      "===========================================\n",
      "Newton-Cotes rules for n = 12\n",
      "Testing degree of exactness for m = 0\n",
      "2.57143699666784e-8\n",
      "Testing degree of exactness for m = 1\n",
      "1.52038324707782e-8\n",
      "Testing degree of exactness for m = 2\n",
      "8.88159068512806e-9\n",
      "Testing degree of exactness for m = 3\n",
      "5.21319926116703e-9\n",
      "Testing degree of exactness for m = 4\n",
      "3.09319925229090e-9\n",
      "Testing degree of exactness for m = 5\n",
      "1.86017889980405e-9\n",
      "Testing degree of exactness for m = 6\n",
      "1.13572856674793e-9\n",
      "Testing degree of exactness for m = 7\n",
      "7.05173475168408e-10\n",
      "Testing degree of exactness for m = 8\n",
      "4.46185782765340e-10\n",
      "Testing degree of exactness for m = 9\n",
      "2.88422064009808e-10\n",
      "Testing degree of exactness for m = 10\n",
      "1.91011775840799e-10\n",
      "Testing degree of exactness for m = 11\n",
      "1.29964650152914e-10\n",
      "Testing degree of exactness for m = 12\n",
      "9.10610892246311e-11\n",
      "Testing degree of exactness for m = 13\n",
      "6.57942450521531e-11\n",
      "===========================================\n",
      "Newton-Cotes rules for n = 13\n",
      "Testing degree of exactness for m = 0\n",
      "-1.67740986434239e-7\n",
      "Testing degree of exactness for m = 1\n",
      "-5.14312463728572e-8\n",
      "Testing degree of exactness for m = 2\n",
      "-1.51594109487618e-8\n",
      "Testing degree of exactness for m = 3\n",
      "-3.69629288288209e-9\n",
      "Testing degree of exactness for m = 4\n",
      "-1.10836673172798e-10\n",
      "Testing degree of exactness for m = 5\n",
      "9.14898989901047e-10\n",
      "Testing degree of exactness for m = 6\n",
      "1.09517517277169e-9\n",
      "Testing degree of exactness for m = 7\n",
      "1.00040205286422e-9\n",
      "Testing degree of exactness for m = 8\n",
      "8.27830748395542e-10\n",
      "Testing degree of exactness for m = 9\n",
      "6.48072928655097e-10\n",
      "Testing degree of exactness for m = 10\n",
      "4.86261406140720e-10\n",
      "Testing degree of exactness for m = 11\n",
      "3.50038761864901e-10\n",
      "Testing degree of exactness for m = 12\n",
      "2.39925398992646e-10\n",
      "Testing degree of exactness for m = 13\n",
      "1.53533491475955e-10\n",
      "Testing degree of exactness for m = 14\n",
      "-1.29482811833670e-8\n",
      "===========================================\n",
      "Newton-Cotes rules for n = 14\n",
      "Testing degree of exactness for m = 0\n",
      "1.95889363974189e-6\n",
      "Testing degree of exactness for m = 1\n",
      "1.03017938707373e-6\n",
      "Testing degree of exactness for m = 2\n",
      "5.49456646126156e-7\n",
      "Testing degree of exactness for m = 3\n",
      "2.99586037755262e-7\n",
      "Testing degree of exactness for m = 4\n",
      "1.67737911616062e-7\n",
      "Testing degree of exactness for m = 5\n",
      "9.68571822468345e-8\n",
      "Testing degree of exactness for m = 6\n",
      "5.79093407671039e-8\n",
      "Testing degree of exactness for m = 7\n",
      "3.59462962729040e-8\n",
      "Testing degree of exactness for m = 8\n",
      "2.31793108596001e-8\n",
      "Testing degree of exactness for m = 9\n",
      "1.54986041778216e-8\n",
      "Testing degree of exactness for m = 10\n",
      "1.07041984304113e-8\n",
      "Testing degree of exactness for m = 11\n",
      "7.59781071391075e-9\n",
      "Testing degree of exactness for m = 12\n",
      "5.51272308357831e-9\n",
      "Testing degree of exactness for m = 13\n",
      "4.06831142385489e-9\n",
      "Testing degree of exactness for m = 14\n",
      "3.04064373679580e-9\n",
      "Testing degree of exactness for m = 15\n",
      "2.29347356384135e-9\n"
     ]
    }
   ],
   "source": [
    "def QR(f, xq, wq):\n",
    "    \"\"\" Computes an approximation of the integral f\n",
    "    for a given quadrature rule.\n",
    "    Input:\n",
    "    f: integrand\n",
    "    xq: quadrature nodes\n",
    "    wq: quadrature weights\n",
    "    \"\"\"\n",
    "    n = len(xq)\n",
    "    if (n != len(wq)):\n",
    "        raise RuntimeError(\"Error: Need same number of quadrature nodes and weigtds\")\n",
    "    return np.array(wq)@f(np.array(xq))\n",
    "\n",
    "for n in range(1,15):\n",
    "    print(\"===========================================\")\n",
    "\n",
    "    print(\"Newton-Cotes rules for n = {}\".format(n))\n",
    "\n",
    "    xq,wq = newton_cotes_formula(n, a, b)\n",
    "    for m in range(n+2):\n",
    "        print(f\"Testing degree of exactness for m = {m}\")\n",
    "        # Define function\n",
    "        def f(x):\n",
    "            return x**m\n",
    "\n",
    "        # Exact integral\n",
    "        int_f = 1./(m+1)\n",
    "        qr_f = QR(f, xq, wq)\n",
    "        print(int_f - qr_f)"
   ]
  },
  {
   "cell_type": "markdown",
   "id": "c3163e68",
   "metadata": {},
   "source": [
    "__d__) Tabulate the quadrature weights for the Newton-Cotes rule for $n=1,\\ldots 14$. For which $n$  should you\n",
    "refrain from using the resulting quadrature rule (and why?)"
   ]
  },
  {
   "cell_type": "code",
   "execution_count": 6,
   "id": "84d7e6bb",
   "metadata": {},
   "outputs": [
    {
     "name": "stdout",
     "output_type": "stream",
     "text": [
      "Newton-Cotes formula for n = 8 contains negative weights!\n",
      " Don't use it!\n",
      "Newton-Cotes formula for n = 10 contains negative weights!\n",
      " Don't use it!\n",
      "Newton-Cotes formula for n = 11 contains negative weights!\n",
      " Don't use it!\n",
      "Newton-Cotes formula for n = 12 contains negative weights!\n",
      " Don't use it!\n",
      "Newton-Cotes formula for n = 13 contains negative weights!\n",
      " Don't use it!\n",
      "Newton-Cotes formula for n = 14 contains negative weights!\n",
      " Don't use it!\n"
     ]
    }
   ],
   "source": [
    "for n in range(1,15):\n",
    "    xqs, weights = newton_cotes_formula(n, a, b)\n",
    "    neg_weights = weights[weights < 0]\n",
    "    if len(neg_weights) > 0:\n",
    "        print(\"Newton-Cotes formula for n = %d contains negative weights!\\n Don't use it!\" % n)"
   ]
  },
  {
   "cell_type": "markdown",
   "id": "5ff7de3d",
   "metadata": {},
   "source": [
    "## Exercise 2: Composite Simpson's rule\n",
    "Simpson's rule is defined as\n",
    "$$\n",
    "S[f](x_{i-1}, x_i) = \\frac{h}{6}(f(x_{i-1} + 4f(x_{i-1/2}) + f(x_i))\n",
    "$$\n",
    "where $h = x_i - x_{i-1}$ and $x_{i-1/2} = \\frac{x_{i-1}+x_i}{2}.$\n"
   ]
  },
  {
   "cell_type": "markdown",
   "id": "e54ac093",
   "metadata": {},
   "source": [
    "**a)**\n",
    "\n",
    "Show that the resulting composite Simpson's rule is given by\n",
    "\n",
    "\\begin{align*}\n",
    "\\int_a^b f {\\,\\mathrm{d}x} \\approx \\mathrm{CSR}[f]({[x_{i-1}, x_i]}_{i=1}^{m})\n",
    "&= \n",
    "\\tfrac{h}{6}\n",
    "[\n",
    "f(x_0)\n",
    "+ 4f(x_{x_{1/2}}) + 2f(x_1) \n",
    "+ 4f(x_{3/2}) +     2f(x_2)\n",
    "+ \\ldots\n",
    "\\\\ \n",
    "&\\qquad+2 f(x_{m-1})\n",
    "+\n",
    "4f(x_{x_{m-1/2}}) \n",
    "+f(x_m)\n",
    "].\n",
    "\\end{align*}"
   ]
  },
  {
   "cell_type": "markdown",
   "id": "27471b75",
   "metadata": {},
   "source": [
    "**sol:**\n",
    "\n",
    "\\begin{align*}\n",
    "\\mathrm{CSR}[f]({[x_{i-1}, x_i]}_{i=1}^{m}) \n",
    "&= \\sum_{i=1}^m S[f](x_{i-1},x_i) \n",
    "\\\\ &=   \\sum_{i=1}^m \\frac{h}{6}(f(x_{i-1}) + 4f(x_{i-1/2}) + f(x_i))\n",
    "\\\\ &= \\frac{h}{6}\\left( \\sum_{i=1}^m f(x_{i-1}) + 4\\sum_{i=1}^m f(x_{i-1/2}) + \\sum_{i=1}^m f(x_i) \\right) \n",
    "\\\\ &= \\frac{h}{6}\\left( f(x_0) + \\sum_{i=1}^{m-1}f(x_i) + 4\\sum_{i=1}^mf(x_{i-1/2}) + \\sum_{i=1}^{m-1}f(x_i) + f(x_m)\\right) \n",
    "\\\\ &= \\frac{h}{6}\\left( f(x_0) + 2\\sum_{i=1}^{m-1}f(x_i) + 4\\sum_{i=1}^mf(x_{i-1/2}) + f(x_m)\\right) \n",
    "\\\\ &= \\frac{h}{6}[f(x_0) + 4f(x_{1/2}) + 2f(x_1) + 4f(x_{3/2}) + 2f(x_2)+\\ldots + 2f(x_{m-1}) + 4f(x_{m-1/2}) + f(x_m)].\n",
    "\\end{align*}"
   ]
  },
  {
   "cell_type": "markdown",
   "id": "679ebe48",
   "metadata": {},
   "source": [
    "**b)**\n",
    "Implement the composite Simpson's rule.\n",
    "Use this function to compute an approximated value of the integral\n",
    "\n",
    "$$\n",
    "I(0,1) = \\int_0^1 \\tan\\left(\\frac{\\pi}{4}x\\right) = 2\\frac{\\log(2)}{\\pi} = 0.4412712\\dotsc.\n",
    "$$\n",
    "\n",
    "for $m = 4, 8, 16, 32, 64$ corresponding to\n",
    "$ h = 2^{-2}, 2^{-3}, 2^{-4}, 2^{-5}, 2^{-6}$.\n",
    "Tabulate the corresponding quadrature errors $|I(0,1) - \\mathrm{CSR}[f]({[x_{i-1}, x_i]}_{i=1}^{m})|$. Plot the errors against $h$ in a $\\log-\\log$\n",
    "plot and determine the EOC (\"Experimental Order of Convergence\")\n",
    "How does it compare to the composite trapezoidal rule?"
   ]
  },
  {
   "cell_type": "code",
   "execution_count": 7,
   "id": "17ca37bf",
   "metadata": {},
   "outputs": [
    {
     "name": "stdout",
     "output_type": "stream",
     "text": [
      "Number of subintervals m = 4\n",
      "Q[f] = 0.44128004959666406\n",
      "|I[f] - Q[f]| = 8.8492913609e-06\n",
      "Number of subintervals m = 8\n",
      "Q[f] = 0.44127176953217295\n",
      "|I[f] - Q[f]| = 5.6922686975e-07\n",
      "Number of subintervals m = 16\n",
      "Q[f] = 0.4412712361500305\n",
      "|I[f] - Q[f]| = 3.5844727297e-08\n",
      "Number of subintervals m = 32\n",
      "Q[f] = 0.44127120254985497\n",
      "|I[f] - Q[f]| = 2.2445517667e-09\n",
      "Number of subintervals m = 64\n",
      "Q[f] = 0.4412712004456544\n",
      "|I[f] - Q[f]| = 1.4035117513e-10\n",
      "[3.95848626 3.98917094 3.99726164 3.99931432]\n"
     ]
    },
    {
     "data": {
      "text/plain": [
       "[<matplotlib.lines.Line2D at 0x15076bf9970>]"
      ]
     },
     "execution_count": 7,
     "metadata": {},
     "output_type": "execute_result"
    },
    {
     "data": {
      "image/png": "[encoded data removed]",
      "text/plain": [
       "<Figure size 640x480 with 1 Axes>"
      ]
     },
     "metadata": {},
     "output_type": "display_data"
    }
   ],
   "source": [
    "#We first define the composite Simpson rule\n",
    "def CS(f,a,b,m):\n",
    "    \n",
    "    #Define all the end points of the sub-intervals.\n",
    "    x = np.linspace(a,b,m+1) \n",
    "    h = float(b - a)/m\n",
    "    \n",
    "    #Define the steps in between, the x_{i-1/2}. Note that there are only m points.\n",
    "    x_half = np.linspace(a+h/2,b-h/2,m)\n",
    "    \n",
    "    fx = f(x[1:-1]) #We treat x_0 and x_m separately from x_1,...,x_{m-1}\n",
    "    fx_half = f(x_half)\n",
    "    \n",
    "    return h/6*(f(a) + 2*sum(fx) + 4*sum(fx_half) +f(b))\n",
    "\n",
    "import matplotlib.pyplot as plt\n",
    "# Define function\n",
    "def f(x):\n",
    "    return np.tan(x*np.pi/4)\n",
    "\n",
    "# Exact integral\n",
    "int_f = 2*np.log(2)/np.pi\n",
    "\n",
    "# Interval\n",
    "a, b = 0, 1\n",
    "\n",
    "errs = []\n",
    "hs = []\n",
    "\n",
    "# Compute integral numerically\n",
    "for m in [4, 8, 16, 32, 64]:\n",
    "    cqr_f = CS(f, a, b, m)\n",
    "    print(\"Number of subintervals m = {}\".format(m))\n",
    "    print(\"Q[f] = {}\".format(cqr_f))\n",
    "    err = abs(int_f - cqr_f)\n",
    "    errs.append(err)\n",
    "    hs.append((b-a)/m)\n",
    "    print(\"|I[f] - Q[f]| = {:.10e}\".format(err))\n",
    "\n",
    "hs = np.array(hs)\n",
    "errs = np.array(errs)\n",
    "eoc = np.log(errs[1:]/errs[:-1])/np.log(hs[1:]/hs[:-1])\n",
    "print(eoc)\n",
    "plt.loglog(hs, errs, \"bo-\")"
   ]
  },
  {
   "cell_type": "markdown",
   "id": "97a56718",
   "metadata": {},
   "source": [
    "**c)**\n",
    "Recall that the error of Simpson's rule on a single interval is given by\n",
    "\n",
    "$$\n",
    "|I[f](a,b) - S[f](a,b)| = - \\frac{(b-a)^5}{2880}  f^{(4)}(\\xi)\n",
    "$$\n",
    "for some $\\xi \\in [a,b]$.\n",
    "\n",
    "Use this to show that the error of the composite Simpson rule can be bounded by\n",
    "\n",
    "\\begin{equation}\n",
    "|I[f]-\\mathrm{CSR}[f]|\n",
    "\\leqslant\n",
    "\\dfrac{M_4}{2880} \\dfrac{(b-a)^5}{m^4}\n",
    "=\n",
    "\\dfrac{M_4}{2880}\n",
    "h^4(b-a)\n",
    "\\end{equation}\n",
    "\n",
    "where  $M_4 = \\max_{\\xi\\in[a,b]} |f^{(4)}(\\xi)|$. Does your numerical experiments from b) support the theoretically derived convergence order?"
   ]
  },
  {
   "cell_type": "markdown",
   "id": "713b23ce",
   "metadata": {},
   "source": [
    "**sol:**\n",
    "\n",
    "\\begin{align*}\n",
    "|I[f]-\\mathrm{CSR}[f]|\n",
    "&=\n",
    "\\biggl \\lvert\n",
    "\\sum_{i=1}^m\n",
    "\\Bigl [\n",
    "\\int_{x_{i-1}}^{x_i} f(x) {\\,\\mathrm{d}x}\n",
    "- \\bigl(\n",
    "\\tfrac{h}{6}f(x_{i-1})\n",
    "+\n",
    "\\tfrac{4h}{6}f(x_{i-1/2})\n",
    "+\n",
    "\\tfrac{h}{6}f(x_{i})\n",
    "\\bigr)\n",
    "\\Bigr]\n",
    "\\biggr \\rvert\n",
    "\\\\ \n",
    "&\\leqslant\n",
    "\\sum_{i=1}^m\n",
    "\\frac{h^5}{2880}|f^{(4)}(\\xi_i)|\n",
    "\\leqslant \n",
    "M_4 \\sum_{i=1}^m\n",
    "\\frac{h^5}{2880}\n",
    "\\\\ \n",
    "&=\n",
    "M_4 \n",
    "\\frac{h^5}{2880}\n",
    "\\underbrace{m}_{\\tfrac{(b-a)}{h}}\n",
    "=\n",
    "\\dfrac{M_4}{2880}\n",
    "h^4(b-a)\n",
    "\\end{align*}"
   ]
  },
  {
   "cell_type": "markdown",
   "id": "cb267344",
   "metadata": {},
   "source": [
    "**d)** Redo the numerical experiment from b), but this time, use the composite Simpson rule to \n",
    "compute approximated values of the integral\n",
    "\n",
    "$$\n",
    "\\int_0^1 \\sqrt{1-x^2} dx = \\dfrac{\\pi}{4}.\n",
    "$$\n",
    "What EOC do you obtain? Do you have an explanation for reduced convergence order?\n",
    "\n",
    "**Hint.** Have a look a $f'$, e.g. by plotting $f'$ over intervals $[0,b]$ with $0 < b < 1$ but $b$ very close to $1$, e.g. $b=0.9999$  "
   ]
  },
  {
   "cell_type": "code",
   "execution_count": 8,
   "id": "2c1d6c65",
   "metadata": {},
   "outputs": [
    {
     "name": "stdout",
     "output_type": "stream",
     "text": [
      "Number of subintervals m = 4\n",
      "Q[f] = 0.7802972924438543\n",
      "|I[f] - Q[f]| = 5.1008709536e-03\n",
      "Number of subintervals m = 8\n",
      "Q[f] = 0.7835994172461491\n",
      "|I[f] - Q[f]| = 1.7987461513e-03\n",
      "Number of subintervals m = 16\n",
      "Q[f] = 0.7847630544733987\n",
      "|I[f] - Q[f]| = 6.3510892405e-04\n",
      "Number of subintervals m = 32\n",
      "Q[f] = 0.7851737690201337\n",
      "|I[f] - Q[f]| = 2.2439437731e-04\n",
      "Number of subintervals m = 64\n",
      "Q[f] = 0.7853188547338981\n",
      "|I[f] - Q[f]| = 7.9308663550e-05\n",
      "[1.503752   1.50191565 1.50096752 1.50048615]\n"
     ]
    },
    {
     "data": {
      "text/plain": [
       "[<matplotlib.lines.Line2D at 0x15076bfa660>]"
      ]
     },
     "execution_count": 8,
     "metadata": {},
     "output_type": "execute_result"
    },
    {
     "data": {
      "image/png": "[encoded data removed]",
      "text/plain": [
       "<Figure size 640x480 with 1 Axes>"
      ]
     },
     "metadata": {},
     "output_type": "display_data"
    }
   ],
   "source": [
    "def f(x):\n",
    "    return np.sqrt(1-x**2)\n",
    "\n",
    "# Exact integral\n",
    "int_f = np.pi/4.0\n",
    "\n",
    "# Interval\n",
    "a, b = 0, 1\n",
    "\n",
    "errs = []\n",
    "hs = []\n",
    "\n",
    "# Compute integral numerically\n",
    "for m in [4, 8, 16, 32, 64]:\n",
    "    cqr_f = CS(f, a, b, m)\n",
    "    print(\"Number of subintervals m = {}\".format(m))\n",
    "    print(\"Q[f] = {}\".format(cqr_f))\n",
    "    err = abs(int_f - cqr_f)\n",
    "    errs.append(err)\n",
    "    hs.append((b-a)/m)\n",
    "    print(\"|I[f] - Q[f]| = {:.10e}\".format(err))\n",
    "\n",
    "hs = np.array(hs)\n",
    "errs = np.array(errs)\n",
    "eoc = np.log(errs[1:]/errs[:-1])/np.log(hs[1:]/hs[:-1])\n",
    "print(eoc)\n",
    "plt.loglog(hs, errs, \"bo-\")"
   ]
  },
  {
   "cell_type": "markdown",
   "id": "9b999d07",
   "metadata": {},
   "source": [
    "EOC is about $1.5$ compared to $4$ in the previous example. The main reason is that $f(x) = \\sqrt{1-x^2}$\n",
    "is not differentiable at $x = 1$ and that its derivative $\\lim{x \\to 1^+}f'(x) = - \\infty$, i.e. $f'$ diverges,\n",
    "and thus smoothness assumption on $f$ in Simpson error estimate above is not satisfied. "
   ]
  },
  {
   "cell_type": "code",
   "execution_count": 9,
   "id": "fdd1072d",
   "metadata": {},
   "outputs": [
    {
     "data": {
      "text/plain": [
       "[<matplotlib.lines.Line2D at 0x150790acfe0>]"
      ]
     },
     "execution_count": 9,
     "metadata": {},
     "output_type": "execute_result"
    },
    {
     "data": {
      "image/png": "[encoded data removed]",
      "text/plain": [
       "<Figure size 640x480 with 1 Axes>"
      ]
     },
     "metadata": {},
     "output_type": "display_data"
    }
   ],
   "source": [
    "def f(x):\n",
    "    return np.sqrt(1- x**2)\n",
    "\n",
    "def g(x):\n",
    "    return -2*x*(1- x**2)**-0.5\n",
    "\n",
    "\n",
    "    \n",
    "x = np.linspace(0,0.9999, 100)\n",
    "plt.plot(x, f(x))\n",
    "plt.plot(x, g(x))"
   ]
  },
  {
   "cell_type": "markdown",
   "id": "977f9389",
   "metadata": {},
   "source": [
    "## Exercise 3: Composite Gauss-Legendre rule\n",
    "\n",
    "Gauss-Legandre on the interval $[-1,1]$ is defined as \n",
    "$$\n",
    "GL[f](-1, 1) =f(1/\\sqrt{3}) + f(-1/\\sqrt{3})\n",
    "$$\n"
   ]
  },
  {
   "cell_type": "markdown",
   "id": "5aac89f1",
   "metadata": {},
   "source": [
    "__a__) Transfer the quadrature points and weights to an arbitrary interval $[x_{i-1},x_{i}]$, and show that the composite Gauss-Legandre rule is given by: \n",
    "\n",
    "\n",
    "\\begin{align*}\n",
    "\\int_a^b f {\\,\\mathrm{d}x} \\approx \\mathrm{CGL}[f]({[x_{i-1}, x_i]}_{i=1}^{m})\n",
    "&= \n",
    "\\frac{h}{2}\\sum_{i=1}^m \\left( f\\left(\\frac{x_i + x_{i-1}}{2} + \\frac{x_i - x_{i-1}}{2\\sqrt{3}}\\right) +  f\\left(\\frac{x_i + x_{i-1}}{2} - \\frac{x_i - x_{i-1}}{2\\sqrt{3}} \\right) \\right) .\n",
    "\\end{align*}\n",
    "\n",
    "where $h = x_i - x_{i-1}$"
   ]
  },
  {
   "cell_type": "markdown",
   "id": "8c30cffd",
   "metadata": {},
   "source": [
    "**sol** \n",
    "\n",
    "We denote the new quadrature points $\\xi_1, \\xi_2$. Using the tranformation we have\n",
    "\n",
    "$$\n",
    "\\xi_1 = \\frac{x_i + x_{i-1}}{2} + \\frac{x_i - x_{i-1}}{2} \\frac{1}{\\sqrt{3}} \n",
    "$$\n",
    "\n",
    "$$\n",
    "\\xi_2 = \\frac{x_i + x_{i-1}}{2} + \\frac{x_i - x_{i-1}}{2} \\frac{-1}{\\sqrt{3}} \n",
    "$$\n",
    "The new weights are\n",
    "$$\n",
    "w_1 = w_2 = \\frac{x_i - x_{i-1}}{2} = \\frac{h}{2}\n",
    "$$\n",
    "Dividing into $m$ intervals, we end up with the composite rule. "
   ]
  },
  {
   "cell_type": "markdown",
   "id": "facd4940",
   "metadata": {},
   "source": [
    "__d__) Implement the composite Gauss-Legandre and determine the EOC as you did in exercise 2b)"
   ]
  },
  {
   "cell_type": "code",
   "execution_count": 10,
   "id": "37dc67c3",
   "metadata": {},
   "outputs": [],
   "source": [
    "def composite_GS(f,a,b,m):\n",
    "    \n",
    "    #Define all the end points of the sub-intervals.\n",
    "    x = np.linspace(a,b,m+1) \n",
    "    h = float(b - a)/m\n",
    "    f1 = f((x[1:]+x[0:-1])/2+(x[1:]-x[0:-1])/(np.sqrt(3)*2))\n",
    "    f2 = f((x[1:]+x[0:-1])/2-(x[1:]-x[0:-1])/(np.sqrt(3)*2))\n",
    "    \n",
    "\n",
    "    return h/2*(sum(f1)+sum(f2))"
   ]
  },
  {
   "cell_type": "code",
   "execution_count": 11,
   "id": "94713264",
   "metadata": {},
   "outputs": [
    {
     "name": "stdout",
     "output_type": "stream",
     "text": [
      "Number of subintervals m = 4\n",
      "Q[f] = 0.45015800300680064\n",
      "|I[f] - Q[f]| = 1.5507175238e-07\n",
      "Number of subintervals m = 8\n",
      "Q[f] = 0.45015814839546564\n",
      "|I[f] - Q[f]| = 9.6830873875e-09\n",
      "Number of subintervals m = 16\n",
      "Q[f] = 0.4501581574734989\n",
      "|I[f] - Q[f]| = 6.0505411792e-10\n",
      "Number of subintervals m = 32\n",
      "Q[f] = 0.4501581580407393\n",
      "|I[f] - Q[f]| = 3.7813752130e-11\n",
      "Number of subintervals m = 64\n",
      "Q[f] = 0.45015815807618975\n",
      "|I[f] - Q[f]| = 2.3632762414e-12\n",
      "[4.00132499 4.00033102 4.00008127 4.00005083]\n"
     ]
    },
    {
     "data": {
      "text/plain": [
       "[<matplotlib.lines.Line2D at 0x15079002660>]"
      ]
     },
     "execution_count": 11,
     "metadata": {},
     "output_type": "execute_result"
    },
    {
     "data": {
      "image/png": "[encoded data removed]",
      "text/plain": [
       "<Figure size 640x480 with 1 Axes>"
      ]
     },
     "metadata": {},
     "output_type": "display_data"
    }
   ],
   "source": [
    "def f(x):\n",
    "    return np.cos(np.pi*x/2)\n",
    "# Exact integral\n",
    "int_f = 2/np.pi * np.sin(np.pi/4)\n",
    "\n",
    "# Interval\n",
    "a, b = 0, 0.5\n",
    "\n",
    "errs = []\n",
    "hs = []\n",
    "\n",
    "# Compute integral numerically\n",
    "for m in [4, 8, 16, 32, 64]:\n",
    "    cqr_f = composite_GS(f, a, b, m)\n",
    "    print(\"Number of subintervals m = {}\".format(m))\n",
    "    print(\"Q[f] = {}\".format(cqr_f))\n",
    "    err = abs(int_f - cqr_f)\n",
    "    errs.append(err)\n",
    "    hs.append((b-a)/m)\n",
    "    print(\"|I[f] - Q[f]| = {:.10e}\".format(err))\n",
    "\n",
    "hs = np.array(hs)\n",
    "errs = np.array(errs)\n",
    "eoc = np.log(errs[1:]/errs[:-1])/np.log(hs[1:]/hs[:-1])\n",
    "print(eoc)\n",
    "plt.loglog(hs, errs, \"bo-\")"
   ]
  }
 ],
 "metadata": {
  "kernelspec": {
   "display_name": "Python 3",
   "language": "python",
   "name": "python3"
  },
  "language_info": {
   "codemirror_mode": {
    "name": "ipython",
    "version": 3
   },
   "file_extension": ".py",
   "mimetype": "text/x-python",
   "name": "python",
   "nbconvert_exporter": "python",
   "pygments_lexer": "ipython3",
   "version": "3.12.9"
  }
 },
 "nbformat": 4,
 "nbformat_minor": 5
}
