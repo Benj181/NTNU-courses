{
 "cells": [
  {
   "cell_type": "code",
   "execution_count": 28,
   "id": "cd477724",
   "metadata": {},
   "outputs": [],
   "source": [
    "import numpy as np\n",
    "import matplotlib.pyplot as plt\n",
    "from scipy.fft import fft, fft2, ifft, ifft2, fftfreq"
   ]
  },
  {
   "cell_type": "code",
   "execution_count": 29,
   "id": "0a98d35f",
   "metadata": {},
   "outputs": [],
   "source": [
    "def Solver(kappa, X, Y, U0, t0, T, Nt):\n",
    "    x, y = X[0, :], Y[:, 0]\n",
    "    Nx, Ny = len(x), len(y)\n",
    "    dx, dy = x[1] - x[0], y[1] - y[0]\n",
    "    kx = fftfreq(Nx, d=dx/(2*np.pi))\n",
    "    ky = fftfreq(Ny, d=dy/(2*np.pi))\n",
    "    KX, KY = np.meshgrid(kx, ky, sparse=True)\n",
    "    K2 = (KX**2 + KY**2)\n",
    "\n",
    "    t = t0\n",
    "    U_hat = fft(U0)\n",
    "    dt = (T-t0)/Nt\n",
    "\n",
    "    U_list = [ifft2(U_hat).real]\n",
    "\n",
    "    while t < T - dt/2:\n",
    "        U_hat = (U_hat) / (1 + dt * K2 * kappa)\n",
    "        t += dt\n",
    "        U_list.append(ifft2(U_hat).real)\n",
    "\n",
    "    return U_list"
   ]
  },
  {
   "cell_type": "code",
   "execution_count": null,
   "id": "c75f853f",
   "metadata": {},
   "outputs": [],
   "source": []
  }
 ],
 "metadata": {
  "kernelspec": {
   "display_name": "Python 3",
   "language": "python",
   "name": "python3"
  },
  "language_info": {
   "codemirror_mode": {
    "name": "ipython",
    "version": 3
   },
   "file_extension": ".py",
   "mimetype": "text/x-python",
   "name": "python",
   "nbconvert_exporter": "python",
   "pygments_lexer": "ipython3",
   "version": "3.12.9"
  }
 },
 "nbformat": 4,
 "nbformat_minor": 5
}
